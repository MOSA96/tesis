{
 "cells": [
  {
   "cell_type": "code",
   "execution_count": 22,
   "id": "1cdf0d15",
   "metadata": {},
   "outputs": [],
   "source": [
    "import matplotlib.pyplot as plt\n",
    "import numpy as np\n",
    "import pandas as pd\n",
    "from utils.utils import test"
   ]
  },
  {
   "cell_type": "code",
   "execution_count": 26,
   "id": "fc49ef7f",
   "metadata": {},
   "outputs": [
    {
     "data": {
      "text/html": [
       "<div>\n",
       "<style scoped>\n",
       "    .dataframe tbody tr th:only-of-type {\n",
       "        vertical-align: middle;\n",
       "    }\n",
       "\n",
       "    .dataframe tbody tr th {\n",
       "        vertical-align: top;\n",
       "    }\n",
       "\n",
       "    .dataframe thead th {\n",
       "        text-align: right;\n",
       "    }\n",
       "</style>\n",
       "<table border=\"1\" class=\"dataframe\">\n",
       "  <thead>\n",
       "    <tr style=\"text-align: right;\">\n",
       "      <th></th>\n",
       "      <th>Individual</th>\n",
       "    </tr>\n",
       "    <tr>\n",
       "      <th>Generation</th>\n",
       "      <th></th>\n",
       "    </tr>\n",
       "  </thead>\n",
       "  <tbody>\n",
       "    <tr>\n",
       "      <th>1</th>\n",
       "      <td>[4.974581510195868, -0.43630659303664987, -1.9...</td>\n",
       "    </tr>\n",
       "    <tr>\n",
       "      <th>2</th>\n",
       "      <td>[4.974581510195868, -0.43630659303664987, -1.9...</td>\n",
       "    </tr>\n",
       "    <tr>\n",
       "      <th>3</th>\n",
       "      <td>[4.974581510195868, -0.43630659303664987, -1.9...</td>\n",
       "    </tr>\n",
       "    <tr>\n",
       "      <th>4</th>\n",
       "      <td>[4.974581510195868, -0.43630659303664987, -1.9...</td>\n",
       "    </tr>\n",
       "    <tr>\n",
       "      <th>5</th>\n",
       "      <td>[4.974581510195868, -0.43630659303664987, -1.9...</td>\n",
       "    </tr>\n",
       "  </tbody>\n",
       "</table>\n",
       "</div>"
      ],
      "text/plain": [
       "                                                   Individual\n",
       "Generation                                                   \n",
       "1           [4.974581510195868, -0.43630659303664987, -1.9...\n",
       "2           [4.974581510195868, -0.43630659303664987, -1.9...\n",
       "3           [4.974581510195868, -0.43630659303664987, -1.9...\n",
       "4           [4.974581510195868, -0.43630659303664987, -1.9...\n",
       "5           [4.974581510195868, -0.43630659303664987, -1.9..."
      ]
     },
     "execution_count": 26,
     "metadata": {},
     "output_type": "execute_result"
    }
   ],
   "source": [
    "df = pd.read_csv(\"data/history.csv\", sep=\",\", index_col=0)\n",
    "df[\"Individual\"] = df[\"Individual\"].apply(eval)\n",
    "df"
   ]
  },
  {
   "cell_type": "code",
   "execution_count": 37,
   "id": "79e7ef53",
   "metadata": {},
   "outputs": [],
   "source": [
    "individuals = []\n",
    "for i in df[\"Individual\"]:\n",
    "    for j in i:\n",
    "        individuals.append(j)\n",
    "\n",
    "individuals = np.array(individuals)    "
   ]
  },
  {
   "cell_type": "code",
   "execution_count": 38,
   "id": "f18f49e0",
   "metadata": {},
   "outputs": [],
   "source": [
    "def test(x):\n",
    "    return np.sin(x) + np.sin((10.0 / 3.0) * x)"
   ]
  },
  {
   "cell_type": "code",
   "execution_count": 39,
   "id": "377d065b",
   "metadata": {},
   "outputs": [
    {
     "data": {
      "text/plain": [
       "<matplotlib.collections.PathCollection at 0x2380636c640>"
      ]
     },
     "execution_count": 39,
     "metadata": {},
     "output_type": "execute_result"
    },
    {
     "data": {
      "image/png": "[encoded data removed]",
      "text/plain": [
       "<Figure size 432x288 with 1 Axes>"
      ]
     },
     "metadata": {
      "needs_background": "light"
     },
     "output_type": "display_data"
    }
   ],
   "source": [
    "x = np.linspace(-2,8,250)\n",
    "plt.plot(x, test(x))\n",
    "plt.scatter(individuals, test(individuals))"
   ]
  },
  {
   "cell_type": "code",
   "execution_count": null,
   "id": "1e24338a",
   "metadata": {},
   "outputs": [],
   "source": []
  }
 ],
 "metadata": {
  "kernelspec": {
   "display_name": "Python 3",
   "language": "python",
   "name": "python3"
  },
  "language_info": {
   "codemirror_mode": {
    "name": "ipython",
    "version": 3
   },
   "file_extension": ".py",
   "mimetype": "text/x-python",
   "name": "python",
   "nbconvert_exporter": "python",
   "pygments_lexer": "ipython3",
   "version": "3.8.8"
  }
 },
 "nbformat": 4,
 "nbformat_minor": 5
}
